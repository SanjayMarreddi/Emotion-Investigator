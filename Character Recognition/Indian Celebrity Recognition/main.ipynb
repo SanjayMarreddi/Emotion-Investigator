{
  "nbformat": 4,
  "nbformat_minor": 0,
  "metadata": {
    "kernelspec": {
      "display_name": "Python 3",
      "language": "python",
      "name": "python3"
    },
    "language_info": {
      "codemirror_mode": {
        "name": "ipython",
        "version": 3
      },
      "file_extension": ".py",
      "mimetype": "text/x-python",
      "name": "python",
      "nbconvert_exporter": "python",
      "pygments_lexer": "ipython3",
      "version": "3.7.6"
    },
    "colab": {
      "name": "main.ipynb",
      "provenance": [],
      "collapsed_sections": []
    }
  },
  "cells": [
    {
      "cell_type": "markdown",
      "metadata": {
        "id": "ue8RjHE7tyGk"
      },
      "source": [
        "**Bollywood Celebrity Recognition using Convolutional Neural Networks(CNN)**"
      ]
    },
    {
      "cell_type": "code",
      "metadata": {
        "id": "tOS_yjHRtggl"
      },
      "source": [
        "#import all the required libraries\n",
        "from keras.models import Sequential\n",
        "from keras.layers import Dense\n",
        "from keras.layers import Convolution2D\n",
        "from keras.layers import MaxPooling2D\n",
        "from keras.layers import Flatten"
      ],
      "execution_count": null,
      "outputs": []
    },
    {
      "cell_type": "code",
      "metadata": {
        "id": "JHFhkzUvtgg2"
      },
      "source": [
        "#Initialize datapreprocessing properties\n",
        "from keras.preprocessing.image import ImageDataGenerator\n",
        "train_data_gen=ImageDataGenerator(rescale=1./255,shear_range=0.2,zoom_range=0.2,horizontal_flip=True)\n",
        "test_data_gen=ImageDataGenerator(rescale=1./255)"
      ],
      "execution_count": null,
      "outputs": []
    },
    {
      "cell_type": "code",
      "metadata": {
        "id": "8lQG-tbDtgg4",
        "outputId": "eb64d594-5f9c-4191-a2c2-efb1beffc261"
      },
      "source": [
        "#Loading the dataset and apply the initialized datapreprocessing properties to the dataset\n",
        "x_train=train_data_gen.flow_from_directory(r\"Dataset celeb\\trainset\",target_size=(64,64),batch_size=32,class_mode=\"categorical\")\n",
        "x_test=test_data_gen.flow_from_directory(r\"Dataset celeb\\testset\",target_size=(64,64),batch_size=32,class_mode=\"categorical\")"
      ],
      "execution_count": null,
      "outputs": [
        {
          "output_type": "stream",
          "text": [
            "Found 397 images belonging to 5 classes.\n",
            "Found 100 images belonging to 5 classes.\n"
          ],
          "name": "stdout"
        }
      ]
    },
    {
      "cell_type": "code",
      "metadata": {
        "id": "Z3Sc7R5ytgg6",
        "outputId": "a7009e17-e42c-4ae1-f6db-9c09c8b7f097"
      },
      "source": [
        "#Checking the classes\r\n",
        "x_train.class_indices"
      ],
      "execution_count": null,
      "outputs": [
        {
          "output_type": "execute_result",
          "data": {
            "text/plain": [
              "{'Aamir_Khan': 0,\n",
              " 'Abhishek_Bachchan': 1,\n",
              " 'Aishwarya_Rai': 2,\n",
              " 'Prabhas': 3,\n",
              " 'Salman_Khan': 4}"
            ]
          },
          "metadata": {
            "tags": []
          },
          "execution_count": 7
        }
      ]
    },
    {
      "cell_type": "code",
      "metadata": {
        "id": "7B827q-ttgg7",
        "outputId": "6d050c13-3c8b-4dd3-bf0d-81346e0ff1ca"
      },
      "source": [
        "#Initialize the model\r\n",
        "#The sequential API allows you to create model layer-by-layer\r\n",
        "model=Sequential()"
      ],
      "execution_count": null,
      "outputs": [
        {
          "output_type": "stream",
          "text": [
            "WARNING:tensorflow:From C:\\Users\\pbelaurum\\anaconda3\\lib\\site-packages\\keras\\backend\\tensorflow_backend.py:74: The name tf.get_default_graph is deprecated. Please use tf.compat.v1.get_default_graph instead.\n",
            "\n"
          ],
          "name": "stdout"
        }
      ]
    },
    {
      "cell_type": "code",
      "metadata": {
        "id": "TOHvpbW4tgg8",
        "outputId": "765fe5bb-17ac-486b-e6f7-f1c13f0a8439"
      },
      "source": [
        "#adding convolution layer\r\n",
        "model.add(Convolution2D(32,(3,3),input_shape=(64,64,3),activation=\"relu\"))"
      ],
      "execution_count": null,
      "outputs": [
        {
          "output_type": "stream",
          "text": [
            "WARNING:tensorflow:From C:\\Users\\pbelaurum\\anaconda3\\lib\\site-packages\\keras\\backend\\tensorflow_backend.py:517: The name tf.placeholder is deprecated. Please use tf.compat.v1.placeholder instead.\n",
            "\n",
            "WARNING:tensorflow:From C:\\Users\\pbelaurum\\anaconda3\\lib\\site-packages\\keras\\backend\\tensorflow_backend.py:4138: The name tf.random_uniform is deprecated. Please use tf.random.uniform instead.\n",
            "\n"
          ],
          "name": "stdout"
        }
      ]
    },
    {
      "cell_type": "code",
      "metadata": {
        "id": "xpv8_1VYtgg9",
        "outputId": "86999ef3-6030-4abd-ce66-41b0f0f6b410"
      },
      "source": [
        "#adding pooling layer\r\n",
        "model.add(MaxPooling2D(pool_size=(2,2)))"
      ],
      "execution_count": null,
      "outputs": [
        {
          "output_type": "stream",
          "text": [
            "WARNING:tensorflow:From C:\\Users\\pbelaurum\\anaconda3\\lib\\site-packages\\keras\\backend\\tensorflow_backend.py:3976: The name tf.nn.max_pool is deprecated. Please use tf.nn.max_pool2d instead.\n",
            "\n"
          ],
          "name": "stdout"
        }
      ]
    },
    {
      "cell_type": "code",
      "metadata": {
        "id": "nMw1AUwttgg-"
      },
      "source": [
        "#adding flatten layer\r\n",
        "model.add(Flatten())"
      ],
      "execution_count": null,
      "outputs": []
    },
    {
      "cell_type": "code",
      "metadata": {
        "id": "k_jQ-Jcbtgg_",
        "outputId": "2ba03f9e-6667-4ef7-92ae-5504f2d4915b"
      },
      "source": [
        "#add hidden layer\r\n",
        "model.add(Dense(units=128,init=\"uniform\",activation=\"relu\"))#we can also take random_uniform"
      ],
      "execution_count": null,
      "outputs": [
        {
          "output_type": "stream",
          "text": [
            "C:\\Users\\pbelaurum\\anaconda3\\lib\\site-packages\\ipykernel_launcher.py:1: UserWarning: Update your `Dense` call to the Keras 2 API: `Dense(units=128, activation=\"relu\", kernel_initializer=\"uniform\")`\n",
            "  \"\"\"Entry point for launching an IPython kernel.\n"
          ],
          "name": "stderr"
        }
      ]
    },
    {
      "cell_type": "code",
      "metadata": {
        "id": "MkX6S8xLtghA",
        "outputId": "b6ea524d-db0f-48a8-952d-87fd5887eeff"
      },
      "source": [
        "#add output layer\r\n",
        "model.add(Dense(units=5,init=\"uniform\",activation=\"softmax\"))"
      ],
      "execution_count": null,
      "outputs": [
        {
          "output_type": "stream",
          "text": [
            "C:\\Users\\pbelaurum\\anaconda3\\lib\\site-packages\\ipykernel_launcher.py:1: UserWarning: Update your `Dense` call to the Keras 2 API: `Dense(units=5, activation=\"softmax\", kernel_initializer=\"uniform\")`\n",
            "  \"\"\"Entry point for launching an IPython kernel.\n"
          ],
          "name": "stderr"
        }
      ]
    },
    {
      "cell_type": "code",
      "metadata": {
        "id": "I2F4fZQBtghB",
        "outputId": "b10558b1-8021-43b2-fe92-1b5e5d49bc29"
      },
      "source": [
        "#configure the learning model\r\n",
        "model.compile(optimizer=\"adam\",loss='categorical_crossentropy',metrics=[\"accuracy\"])"
      ],
      "execution_count": null,
      "outputs": [
        {
          "output_type": "stream",
          "text": [
            "WARNING:tensorflow:From C:\\Users\\pbelaurum\\anaconda3\\lib\\site-packages\\keras\\optimizers.py:790: The name tf.train.Optimizer is deprecated. Please use tf.compat.v1.train.Optimizer instead.\n",
            "\n",
            "WARNING:tensorflow:From C:\\Users\\pbelaurum\\anaconda3\\lib\\site-packages\\keras\\backend\\tensorflow_backend.py:3295: The name tf.log is deprecated. Please use tf.math.log instead.\n",
            "\n"
          ],
          "name": "stdout"
        }
      ]
    },
    {
      "cell_type": "code",
      "metadata": {
        "id": "nmVHY3ehtghC",
        "outputId": "b0e0b289-9a30-4379-cab6-540d6f6ecfae"
      },
      "source": [
        "model.fit_generator(x_train,steps_per_epoch=45,epochs=10,validation_data=x_test,validation_steps=10)\n"
      ],
      "execution_count": null,
      "outputs": [
        {
          "output_type": "stream",
          "text": [
            "WARNING:tensorflow:From C:\\Users\\pbelaurum\\anaconda3\\lib\\site-packages\\tensorflow\\python\\ops\\math_grad.py:1250: add_dispatch_support.<locals>.wrapper (from tensorflow.python.ops.array_ops) is deprecated and will be removed in a future version.\n",
            "Instructions for updating:\n",
            "Use tf.where in 2.0, which has the same broadcast rule as np.where\n",
            "WARNING:tensorflow:From C:\\Users\\pbelaurum\\anaconda3\\lib\\site-packages\\keras\\backend\\tensorflow_backend.py:986: The name tf.assign_add is deprecated. Please use tf.compat.v1.assign_add instead.\n",
            "\n",
            "Epoch 1/10\n"
          ],
          "name": "stdout"
        },
        {
          "output_type": "stream",
          "text": [
            "C:\\Users\\pbelaurum\\anaconda3\\lib\\site-packages\\PIL\\TiffImagePlugin.py:770: UserWarning: Possibly corrupt EXIF data.  Expecting to read 206 bytes but only got 0. Skipping tag 0\n",
            "  \" Skipping tag %s\" % (size, len(data), tag)\n",
            "C:\\Users\\pbelaurum\\anaconda3\\lib\\site-packages\\PIL\\TiffImagePlugin.py:770: UserWarning: Possibly corrupt EXIF data.  Expecting to read 724 bytes but only got 0. Skipping tag 0\n",
            "  \" Skipping tag %s\" % (size, len(data), tag)\n",
            "C:\\Users\\pbelaurum\\anaconda3\\lib\\site-packages\\PIL\\TiffImagePlugin.py:770: UserWarning: Possibly corrupt EXIF data.  Expecting to read 65536 bytes but only got 0. Skipping tag 0\n",
            "  \" Skipping tag %s\" % (size, len(data), tag)\n",
            "C:\\Users\\pbelaurum\\anaconda3\\lib\\site-packages\\PIL\\TiffImagePlugin.py:770: UserWarning: Possibly corrupt EXIF data.  Expecting to read 170 bytes but only got 0. Skipping tag 0\n",
            "  \" Skipping tag %s\" % (size, len(data), tag)\n",
            "C:\\Users\\pbelaurum\\anaconda3\\lib\\site-packages\\PIL\\TiffImagePlugin.py:770: UserWarning: Possibly corrupt EXIF data.  Expecting to read 178 bytes but only got 0. Skipping tag 0\n",
            "  \" Skipping tag %s\" % (size, len(data), tag)\n",
            "C:\\Users\\pbelaurum\\anaconda3\\lib\\site-packages\\PIL\\TiffImagePlugin.py:788: UserWarning: Corrupt EXIF data.  Expecting to read 12 bytes but only got 5. \n",
            "  warnings.warn(str(msg))\n"
          ],
          "name": "stderr"
        },
        {
          "output_type": "stream",
          "text": [
            "45/45 [==============================] - 73s 2s/step - loss: 1.4878 - acc: 0.3644 - val_loss: 1.5582 - val_acc: 0.3788\n",
            "Epoch 2/10\n",
            "45/45 [==============================] - 57s 1s/step - loss: 1.1714 - acc: 0.5526 - val_loss: 1.5128 - val_acc: 0.3686\n",
            "Epoch 3/10\n",
            "45/45 [==============================] - 56s 1s/step - loss: 1.0184 - acc: 0.6094 - val_loss: 1.5166 - val_acc: 0.4205\n",
            "Epoch 4/10\n",
            "45/45 [==============================] - 59s 1s/step - loss: 0.8529 - acc: 0.6794 - val_loss: 1.6068 - val_acc: 0.4407\n",
            "Epoch 5/10\n",
            "45/45 [==============================] - 56s 1s/step - loss: 0.7086 - acc: 0.7516 - val_loss: 1.7193 - val_acc: 0.3788\n",
            "Epoch 6/10\n",
            "45/45 [==============================] - 57s 1s/step - loss: 0.6483 - acc: 0.7835 - val_loss: 1.8046 - val_acc: 0.3983\n",
            "Epoch 7/10\n",
            "45/45 [==============================] - 56s 1s/step - loss: 0.5196 - acc: 0.8199 - val_loss: 1.7935 - val_acc: 0.4356\n",
            "Epoch 8/10\n",
            "45/45 [==============================] - 57s 1s/step - loss: 0.4194 - acc: 0.8706 - val_loss: 2.0585 - val_acc: 0.4492\n",
            "Epoch 9/10\n",
            "45/45 [==============================] - 57s 1s/step - loss: 0.3603 - acc: 0.8851 - val_loss: 2.2842 - val_acc: 0.4508\n",
            "Epoch 10/10\n",
            "45/45 [==============================] - 57s 1s/step - loss: 0.2884 - acc: 0.9127 - val_loss: 2.1718 - val_acc: 0.4237\n"
          ],
          "name": "stdout"
        },
        {
          "output_type": "execute_result",
          "data": {
            "text/plain": [
              "<keras.callbacks.History at 0x4070f25788>"
            ]
          },
          "metadata": {
            "tags": []
          },
          "execution_count": 15
        }
      ]
    },
    {
      "cell_type": "code",
      "metadata": {
        "id": "iBzcFQDRtghE"
      },
      "source": [
        "#save the model\r\n",
        "model.save(\"bollywoodceleb.h5\")"
      ],
      "execution_count": null,
      "outputs": []
    },
    {
      "cell_type": "code",
      "metadata": {
        "id": "Wtq9ABOxtghE"
      },
      "source": [
        ""
      ],
      "execution_count": null,
      "outputs": []
    }
  ]
}